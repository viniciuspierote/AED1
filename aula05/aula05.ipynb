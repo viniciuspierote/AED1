{
 "cells": [
  {
   "cell_type": "code",
   "execution_count": 31,
   "id": "90a18f44-c362-483a-92de-96449b26d2a0",
   "metadata": {},
   "outputs": [],
   "source": [
    "x = 5\n",
    "b = 2\n",
    "c = 100"
   ]
  },
  {
   "cell_type": "code",
   "execution_count": 15,
   "id": "bbf4c351-3b17-443f-b607-72ab098d1ed3",
   "metadata": {},
   "outputs": [
    {
     "data": {
      "text/plain": [
       "7"
      ]
     },
     "execution_count": 15,
     "metadata": {},
     "output_type": "execute_result"
    }
   ],
   "source": [
    "x+b"
   ]
  },
  {
   "cell_type": "code",
   "execution_count": 32,
   "id": "82f586ac-de05-400a-ab46-803378610a3e",
   "metadata": {},
   "outputs": [],
   "source": [
    "y = (x+(3*b))/((2*x)+c)"
   ]
  },
  {
   "cell_type": "code",
   "execution_count": 33,
   "id": "07924209-e7b0-47fe-8e0c-e5c25a6c1dbb",
   "metadata": {},
   "outputs": [
    {
     "data": {
      "text/plain": [
       "0.1"
      ]
     },
     "execution_count": 33,
     "metadata": {},
     "output_type": "execute_result"
    }
   ],
   "source": [
    "y"
   ]
  },
  {
   "cell_type": "code",
   "execution_count": 39,
   "id": "ff2fa36a-f6c7-4a5c-8daf-306cde464df0",
   "metadata": {},
   "outputs": [],
   "source": [
    "p = 5\n",
    "q = 7"
   ]
  },
  {
   "cell_type": "code",
   "execution_count": 41,
   "id": "c71a8cab-e3fd-478c-a122-ef485fd59ca6",
   "metadata": {},
   "outputs": [
    {
     "data": {
      "text/plain": [
       "False"
      ]
     },
     "execution_count": 41,
     "metadata": {},
     "output_type": "execute_result"
    }
   ],
   "source": [
    "x = (p > q) and (not (p==q))\n",
    "x"
   ]
  },
  {
   "cell_type": "code",
   "execution_count": 42,
   "id": "39301df9-0a49-4f01-b0aa-6706e552a7fd",
   "metadata": {},
   "outputs": [
    {
     "data": {
      "text/plain": [
       "True"
      ]
     },
     "execution_count": 42,
     "metadata": {},
     "output_type": "execute_result"
    }
   ],
   "source": [
    "y = (not(p<q)) or (q!=p)\n",
    "y"
   ]
  },
  {
   "cell_type": "code",
   "execution_count": 1,
   "id": "0db4b528-e193-4027-93b5-d7e8f5c998ad",
   "metadata": {},
   "outputs": [],
   "source": [
    "r = 1_000_000_000_000_000"
   ]
  },
  {
   "cell_type": "code",
   "execution_count": 49,
   "id": "83d59b16-9330-4c62-be30-75db601d4ae8",
   "metadata": {},
   "outputs": [
    {
     "name": "stdout",
     "output_type": "stream",
     "text": [
      "Defaulting to user installation because normal site-packages is not writeable\n",
      "Collecting num2words\n",
      "  Downloading num2words-0.5.13-py3-none-any.whl.metadata (12 kB)\n",
      "Collecting docopt>=0.6.2 (from num2words)\n",
      "  Downloading docopt-0.6.2.tar.gz (25 kB)\n",
      "  Preparing metadata (setup.py): started\n",
      "  Preparing metadata (setup.py): finished with status 'done'\n",
      "Downloading num2words-0.5.13-py3-none-any.whl (143 kB)\n",
      "   ---------------------------------------- 0.0/143.3 kB ? eta -:--:--\n",
      "   ---------------------------------------- 0.0/143.3 kB ? eta -:--:--\n",
      "   ---------------------------------------- 0.0/143.3 kB ? eta -:--:--\n",
      "   -------- ------------------------------- 30.7/143.3 kB 1.4 MB/s eta 0:00:01\n",
      "   ----------- --------------------------- 41.0/143.3 kB 653.6 kB/s eta 0:00:01\n",
      "   ------------------------- ------------- 92.2/143.3 kB 871.5 kB/s eta 0:00:01\n",
      "   -------------------------------- ----- 122.9/143.3 kB 722.1 kB/s eta 0:00:01\n",
      "   ----------------------------------- -- 133.1/143.3 kB 605.3 kB/s eta 0:00:01\n",
      "   ----------------------------------- -- 133.1/143.3 kB 605.3 kB/s eta 0:00:01\n",
      "   -------------------------------------- 143.3/143.3 kB 502.1 kB/s eta 0:00:00\n",
      "Building wheels for collected packages: docopt\n",
      "  Building wheel for docopt (setup.py): started\n",
      "  Building wheel for docopt (setup.py): finished with status 'done'\n",
      "  Created wheel for docopt: filename=docopt-0.6.2-py2.py3-none-any.whl size=13773 sha256=20ec7e39c6ed9b663b4c566861dee5dfead754fdeaf2448df227262f41a7d367\n",
      "  Stored in directory: c:\\users\\alunos\\appdata\\local\\pip\\cache\\wheels\\1a\\bf\\a1\\4cee4f7678c68c5875ca89eaccf460593539805c3906722228\n",
      "Successfully built docopt\n",
      "Installing collected packages: docopt, num2words\n",
      "Successfully installed docopt-0.6.2 num2words-0.5.13\n",
      "Note: you may need to restart the kernel to use updated packages.\n"
     ]
    }
   ],
   "source": [
    "pip install num2words"
   ]
  },
  {
   "cell_type": "code",
   "execution_count": 15,
   "id": "ca2c5e68-11e7-4bbd-b113-4741a8ee9f88",
   "metadata": {},
   "outputs": [
    {
     "name": "stdin",
     "output_type": "stream",
     "text": [
      "Digite um número:  22\n"
     ]
    },
    {
     "name": "stdout",
     "output_type": "stream",
     "text": [
      "Número por extenso: vinte e dois\n"
     ]
    }
   ],
   "source": [
    "from num2words import num2words\n",
    "\n",
    "numero = int(input(\"Digite um número: \"))\n",
    "numero_extenso = num2words(numero, lang='pt-br')\n",
    "print(f\"Número por extenso: {numero_extenso}\")\n"
   ]
  },
  {
   "cell_type": "code",
   "execution_count": 16,
   "id": "20a6c0cf-8e3e-4e31-9923-da8910fad557",
   "metadata": {},
   "outputs": [
    {
     "data": {
      "text/plain": [
       "'Vinicius'"
      ]
     },
     "execution_count": 16,
     "metadata": {},
     "output_type": "execute_result"
    }
   ],
   "source": [
    "nome = 'Vinicius'\n",
    "nome"
   ]
  },
  {
   "cell_type": "code",
   "execution_count": 17,
   "id": "6815707a-9e5a-4835-aaac-0b8356e11c5a",
   "metadata": {},
   "outputs": [
    {
     "data": {
      "text/plain": [
       "'Pierote'"
      ]
     },
     "execution_count": 17,
     "metadata": {},
     "output_type": "execute_result"
    }
   ],
   "source": [
    "sobrenome = 'Pierote'\n",
    "sobrenome"
   ]
  },
  {
   "cell_type": "code",
   "execution_count": 22,
   "id": "513f8ce7-89cf-4fe2-85dd-51f908fa97ff",
   "metadata": {},
   "outputs": [
    {
     "name": "stdout",
     "output_type": "stream",
     "text": [
      "Vinicius Pierote\n"
     ]
    }
   ],
   "source": [
    "print (nome + \" \"+ sobrenome)"
   ]
  },
  {
   "cell_type": "code",
   "execution_count": null,
   "id": "51febf3e-eec2-45f3-8165-ec976eb634ec",
   "metadata": {},
   "outputs": [],
   "source": []
  }
 ],
 "metadata": {
  "kernelspec": {
   "display_name": "Python 3 (ipykernel)",
   "language": "python",
   "name": "python3"
  },
  "language_info": {
   "codemirror_mode": {
    "name": "ipython",
    "version": 3
   },
   "file_extension": ".py",
   "mimetype": "text/x-python",
   "name": "python",
   "nbconvert_exporter": "python",
   "pygments_lexer": "ipython3",
   "version": "3.12.4"
  }
 },
 "nbformat": 4,
 "nbformat_minor": 5
}
